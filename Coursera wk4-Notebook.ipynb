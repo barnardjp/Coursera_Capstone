{
 "cells": [
  {
   "cell_type": "markdown",
   "metadata": {},
   "source": [
    "## The Battle of the Neighbourhoods - London"
   ]
  },
  {
   "cell_type": "markdown",
   "metadata": {},
   "source": [
    "# Introduction"
   ]
  },
  {
   "cell_type": "markdown",
   "metadata": {},
   "source": [
    "London has 33 boroughs (including the City of London) and is home to over 8 million people and an additional 0.5m people commute to jobs there from outside London.\n",
    "\n",
    "For this project, we want to look at the boroughs of London and classify them. Some neighborhoods are mostly residential, some have more business or commercial spaces surrounding them. The venues closest to the centre of a neighbourhood determine why and how people use it.\n",
    "\n",
    "By analysing the venues data, we can classify boroughs by their primary usage. This data could be useful for city planners and residents alike: it could help plan further city development, or help individuals where to live or set up a business."
   ]
  },
  {
   "cell_type": "markdown",
   "metadata": {},
   "source": [
    "# Data"
   ]
  },
  {
   "cell_type": "markdown",
   "metadata": {},
   "source": [
    "We'll need data on the location of the boroughs and on the venues closest to them.\n",
    "\n",
    "1. A list of boroughs is available from Wikipedia and their central location coordinates can be obtained using Nominatim.\n",
    "2. We can use the Foursquare API to explore venue types in each borough. Foursquare outlines these high-level venue categories with more sub-categories:\n",
    "\n",
    "    * Arts & Entertainment (4d4b7104d754a06370d81259)\n",
    "    * College & University (4d4b7105d754a06372d81259)\n",
    "    * Event (4d4b7105d754a06373d81259)\n",
    "    * Food (4d4b7105d754a06374d81259)\n",
    "    * Nightlife Spot (4d4b7105d754a06376d81259)\n",
    "    * Outdoors & Recreation (4d4b7105d754a06377d81259)\n",
    "    * Professional & Other Places (4d4b7105d754a06375d81259)\n",
    "    * Residence (4e67e38e036454776db1fb3a)\n",
    "    * Shop & Service (4d4b7105d754a06378d81259)\n",
    "    * Travel & Transport (4d4b7105d754a06379d81259)\n",
    "\n",
    "We'll be querying the number of venues in each category in a 1000m radius around the centre of each borough. This radius was chosen because 1000m is a reasonable walking distance."
   ]
  }
 ],
 "metadata": {
  "kernelspec": {
   "display_name": "Python 3",
   "language": "python",
   "name": "python3"
  },
  "language_info": {
   "codemirror_mode": {
    "name": "ipython",
    "version": 3
   },
   "file_extension": ".py",
   "mimetype": "text/x-python",
   "name": "python",
   "nbconvert_exporter": "python",
   "pygments_lexer": "ipython3",
   "version": "3.7.3"
  }
 },
 "nbformat": 4,
 "nbformat_minor": 2
}
